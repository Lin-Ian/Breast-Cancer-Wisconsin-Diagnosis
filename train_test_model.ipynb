{
 "cells": [
  {
   "cell_type": "code",
   "execution_count": 1,
   "metadata": {
    "collapsed": true,
    "ExecuteTime": {
     "end_time": "2023-07-30T14:20:40.725261Z",
     "start_time": "2023-07-30T14:20:40.720238400Z"
    }
   },
   "outputs": [],
   "source": [
    "import pandas as pd\n",
    "import sklearn.exceptions"
   ]
  },
  {
   "cell_type": "code",
   "execution_count": 2,
   "outputs": [
    {
     "data": {
      "text/plain": "  diagnosis  radius_mean  texture_mean  perimeter_mean  area_mean  \\\n0         M        17.99         10.38          122.80     1001.0   \n1         M        20.57         17.77          132.90     1326.0   \n2         M        19.69         21.25          130.00     1203.0   \n3         M        11.42         20.38           77.58      386.1   \n4         M        20.29         14.34          135.10     1297.0   \n\n   smoothness_mean  compactness_mean  concavity_mean  concave points_mean  \\\n0          0.11840           0.27760          0.3001              0.14710   \n1          0.08474           0.07864          0.0869              0.07017   \n2          0.10960           0.15990          0.1974              0.12790   \n3          0.14250           0.28390          0.2414              0.10520   \n4          0.10030           0.13280          0.1980              0.10430   \n\n   symmetry_mean  ...  radius_worst  texture_worst  perimeter_worst  \\\n0         0.2419  ...         25.38          17.33           184.60   \n1         0.1812  ...         24.99          23.41           158.80   \n2         0.2069  ...         23.57          25.53           152.50   \n3         0.2597  ...         14.91          26.50            98.87   \n4         0.1809  ...         22.54          16.67           152.20   \n\n   area_worst  smoothness_worst  compactness_worst  concavity_worst  \\\n0      2019.0            0.1622             0.6656           0.7119   \n1      1956.0            0.1238             0.1866           0.2416   \n2      1709.0            0.1444             0.4245           0.4504   \n3       567.7            0.2098             0.8663           0.6869   \n4      1575.0            0.1374             0.2050           0.4000   \n\n   concave points_worst  symmetry_worst  fractal_dimension_worst  \n0                0.2654          0.4601                  0.11890  \n1                0.1860          0.2750                  0.08902  \n2                0.2430          0.3613                  0.08758  \n3                0.2575          0.6638                  0.17300  \n4                0.1625          0.2364                  0.07678  \n\n[5 rows x 31 columns]",
      "text/html": "<div>\n<style scoped>\n    .dataframe tbody tr th:only-of-type {\n        vertical-align: middle;\n    }\n\n    .dataframe tbody tr th {\n        vertical-align: top;\n    }\n\n    .dataframe thead th {\n        text-align: right;\n    }\n</style>\n<table border=\"1\" class=\"dataframe\">\n  <thead>\n    <tr style=\"text-align: right;\">\n      <th></th>\n      <th>diagnosis</th>\n      <th>radius_mean</th>\n      <th>texture_mean</th>\n      <th>perimeter_mean</th>\n      <th>area_mean</th>\n      <th>smoothness_mean</th>\n      <th>compactness_mean</th>\n      <th>concavity_mean</th>\n      <th>concave points_mean</th>\n      <th>symmetry_mean</th>\n      <th>...</th>\n      <th>radius_worst</th>\n      <th>texture_worst</th>\n      <th>perimeter_worst</th>\n      <th>area_worst</th>\n      <th>smoothness_worst</th>\n      <th>compactness_worst</th>\n      <th>concavity_worst</th>\n      <th>concave points_worst</th>\n      <th>symmetry_worst</th>\n      <th>fractal_dimension_worst</th>\n    </tr>\n  </thead>\n  <tbody>\n    <tr>\n      <th>0</th>\n      <td>M</td>\n      <td>17.99</td>\n      <td>10.38</td>\n      <td>122.80</td>\n      <td>1001.0</td>\n      <td>0.11840</td>\n      <td>0.27760</td>\n      <td>0.3001</td>\n      <td>0.14710</td>\n      <td>0.2419</td>\n      <td>...</td>\n      <td>25.38</td>\n      <td>17.33</td>\n      <td>184.60</td>\n      <td>2019.0</td>\n      <td>0.1622</td>\n      <td>0.6656</td>\n      <td>0.7119</td>\n      <td>0.2654</td>\n      <td>0.4601</td>\n      <td>0.11890</td>\n    </tr>\n    <tr>\n      <th>1</th>\n      <td>M</td>\n      <td>20.57</td>\n      <td>17.77</td>\n      <td>132.90</td>\n      <td>1326.0</td>\n      <td>0.08474</td>\n      <td>0.07864</td>\n      <td>0.0869</td>\n      <td>0.07017</td>\n      <td>0.1812</td>\n      <td>...</td>\n      <td>24.99</td>\n      <td>23.41</td>\n      <td>158.80</td>\n      <td>1956.0</td>\n      <td>0.1238</td>\n      <td>0.1866</td>\n      <td>0.2416</td>\n      <td>0.1860</td>\n      <td>0.2750</td>\n      <td>0.08902</td>\n    </tr>\n    <tr>\n      <th>2</th>\n      <td>M</td>\n      <td>19.69</td>\n      <td>21.25</td>\n      <td>130.00</td>\n      <td>1203.0</td>\n      <td>0.10960</td>\n      <td>0.15990</td>\n      <td>0.1974</td>\n      <td>0.12790</td>\n      <td>0.2069</td>\n      <td>...</td>\n      <td>23.57</td>\n      <td>25.53</td>\n      <td>152.50</td>\n      <td>1709.0</td>\n      <td>0.1444</td>\n      <td>0.4245</td>\n      <td>0.4504</td>\n      <td>0.2430</td>\n      <td>0.3613</td>\n      <td>0.08758</td>\n    </tr>\n    <tr>\n      <th>3</th>\n      <td>M</td>\n      <td>11.42</td>\n      <td>20.38</td>\n      <td>77.58</td>\n      <td>386.1</td>\n      <td>0.14250</td>\n      <td>0.28390</td>\n      <td>0.2414</td>\n      <td>0.10520</td>\n      <td>0.2597</td>\n      <td>...</td>\n      <td>14.91</td>\n      <td>26.50</td>\n      <td>98.87</td>\n      <td>567.7</td>\n      <td>0.2098</td>\n      <td>0.8663</td>\n      <td>0.6869</td>\n      <td>0.2575</td>\n      <td>0.6638</td>\n      <td>0.17300</td>\n    </tr>\n    <tr>\n      <th>4</th>\n      <td>M</td>\n      <td>20.29</td>\n      <td>14.34</td>\n      <td>135.10</td>\n      <td>1297.0</td>\n      <td>0.10030</td>\n      <td>0.13280</td>\n      <td>0.1980</td>\n      <td>0.10430</td>\n      <td>0.1809</td>\n      <td>...</td>\n      <td>22.54</td>\n      <td>16.67</td>\n      <td>152.20</td>\n      <td>1575.0</td>\n      <td>0.1374</td>\n      <td>0.2050</td>\n      <td>0.4000</td>\n      <td>0.1625</td>\n      <td>0.2364</td>\n      <td>0.07678</td>\n    </tr>\n  </tbody>\n</table>\n<p>5 rows × 31 columns</p>\n</div>"
     },
     "execution_count": 2,
     "metadata": {},
     "output_type": "execute_result"
    }
   ],
   "source": [
    "data = pd.read_csv('data/cleaned_data.csv')\n",
    "data.head()"
   ],
   "metadata": {
    "collapsed": false,
    "ExecuteTime": {
     "end_time": "2023-07-30T14:20:42.898393700Z",
     "start_time": "2023-07-30T14:20:42.816867600Z"
    }
   }
  },
  {
   "cell_type": "code",
   "execution_count": 3,
   "outputs": [],
   "source": [
    "x = data.drop(['diagnosis'], axis=1)\n",
    "y = data['diagnosis']"
   ],
   "metadata": {
    "collapsed": false,
    "ExecuteTime": {
     "end_time": "2023-07-30T14:20:44.713823800Z",
     "start_time": "2023-07-30T14:20:44.695574400Z"
    }
   }
  },
  {
   "cell_type": "code",
   "execution_count": 4,
   "outputs": [],
   "source": [
    "from sklearn.model_selection import train_test_split"
   ],
   "metadata": {
    "collapsed": false,
    "ExecuteTime": {
     "end_time": "2023-07-30T14:20:47.394471300Z",
     "start_time": "2023-07-30T14:20:46.609085800Z"
    }
   }
  },
  {
   "cell_type": "code",
   "execution_count": 5,
   "outputs": [
    {
     "data": {
      "text/plain": "((398, 30), (171, 30), (398,), (171,))"
     },
     "execution_count": 5,
     "metadata": {},
     "output_type": "execute_result"
    }
   ],
   "source": [
    "x_train, x_test, y_train, y_test = train_test_split(x, y, test_size=0.3, random_state=1)\n",
    "x_train.shape, x_test.shape, y_train.shape, y_test.shape"
   ],
   "metadata": {
    "collapsed": false,
    "ExecuteTime": {
     "end_time": "2023-07-30T14:20:48.553764900Z",
     "start_time": "2023-07-30T14:20:48.528781800Z"
    }
   }
  },
  {
   "cell_type": "code",
   "execution_count": 6,
   "outputs": [],
   "source": [
    "from sklearn.preprocessing import MinMaxScaler"
   ],
   "metadata": {
    "collapsed": false,
    "ExecuteTime": {
     "end_time": "2023-07-30T14:20:49.673838800Z",
     "start_time": "2023-07-30T14:20:49.651683400Z"
    }
   }
  },
  {
   "cell_type": "code",
   "execution_count": 7,
   "outputs": [
    {
     "data": {
      "text/plain": "   radius_mean  texture_mean  perimeter_mean  area_mean  smoothness_mean  \\\n0     0.214823      0.176530        0.207864   0.111474         0.439379   \n1     0.287236      0.324653        0.268261   0.162757         0.252505   \n2     0.341663      0.365911        0.335982   0.201442         0.331137   \n3     0.240854      0.126141        0.235229   0.127975         0.517920   \n4     0.219083      0.213392        0.218851   0.112280         0.507087   \n5     0.129632      0.287792        0.117062   0.061336         0.152298   \n6     0.253632      0.086574        0.242900   0.137858         0.337637   \n7     0.375740      0.176530        0.363900   0.230498         0.255936   \n8     0.000000      0.125803        0.000000   0.000000         0.581114   \n9     0.215770      0.159959        0.213254   0.110032         0.426198   \n\n   compactness_mean  concavity_mean  concave points_mean  symmetry_mean  \\\n0          0.219587        0.101406             0.145577       0.415657   \n1          0.069243        0.001621             0.020711       0.383333   \n2          0.341987        0.118627             0.151988       0.225253   \n3          0.264514        0.088590             0.139066       0.301515   \n4          0.364432        0.166284             0.223509       0.417172   \n5          0.015188        0.000000             0.000000       0.299495   \n6          0.163437        0.069306             0.131561       0.317677   \n7          0.247307        0.129780             0.160089       0.316667   \n8          0.210609        0.000000             0.000000       0.439394   \n9          0.346476        0.157849             0.128926       0.382828   \n\n   fractal_dimension_mean  ...  radius_worst  texture_worst  perimeter_worst  \\\n0                0.251373  ...      0.167912       0.244403         0.151751   \n1                0.104812  ...      0.224120       0.272655         0.198366   \n2                0.216436  ...      0.303095       0.406183         0.307236   \n3                0.348055  ...      0.196371       0.099947         0.181832   \n4                0.284773  ...      0.167556       0.203891         0.156980   \n5                0.312679  ...      0.072501       0.234808         0.058967   \n6                0.172270  ...      0.202063       0.193230         0.183326   \n7                0.141727  ...      0.329064       0.165245         0.306738   \n8                0.613931  ...      0.000000       0.200426         0.000000   \n9                0.386289  ...      0.154038       0.204158         0.141292   \n\n   area_worst  smoothness_worst  compactness_worst  concavity_worst  \\\n0    0.075354          0.447269           0.143761         0.187760   \n1    0.107870          0.204253           0.038018         0.001920   \n2    0.158106          0.291422           0.346592         0.261449   \n3    0.089633          0.534438           0.149252         0.168818   \n4    0.071397          0.464439           0.208333         0.239592   \n5    0.029149          0.000000           0.000000         0.000000   \n6    0.093320          0.383213           0.197790         0.186407   \n7    0.177300          0.233309           0.276529         0.327956   \n8    0.000000          0.576042           0.102031         0.000000   \n9    0.066998          0.418213           0.202622         0.187032   \n\n   concave points_worst  symmetry_worst  fractal_dimension_worst  \n0              0.330172        0.275050                 0.244994  \n1              0.038179        0.218687                 0.082236  \n2              0.460137        0.242485                 0.250241  \n3              0.254055        0.304359                 0.271014  \n4              0.379725        0.305862                 0.204090  \n5              0.000000        0.085922                 0.111147  \n6              0.367698        0.386774                 0.221758  \n7              0.394158        0.281062                 0.294678  \n8              0.000000        0.342184                 0.413428  \n9              0.237732        0.191132                 0.279794  \n\n[10 rows x 30 columns]",
      "text/html": "<div>\n<style scoped>\n    .dataframe tbody tr th:only-of-type {\n        vertical-align: middle;\n    }\n\n    .dataframe tbody tr th {\n        vertical-align: top;\n    }\n\n    .dataframe thead th {\n        text-align: right;\n    }\n</style>\n<table border=\"1\" class=\"dataframe\">\n  <thead>\n    <tr style=\"text-align: right;\">\n      <th></th>\n      <th>radius_mean</th>\n      <th>texture_mean</th>\n      <th>perimeter_mean</th>\n      <th>area_mean</th>\n      <th>smoothness_mean</th>\n      <th>compactness_mean</th>\n      <th>concavity_mean</th>\n      <th>concave points_mean</th>\n      <th>symmetry_mean</th>\n      <th>fractal_dimension_mean</th>\n      <th>...</th>\n      <th>radius_worst</th>\n      <th>texture_worst</th>\n      <th>perimeter_worst</th>\n      <th>area_worst</th>\n      <th>smoothness_worst</th>\n      <th>compactness_worst</th>\n      <th>concavity_worst</th>\n      <th>concave points_worst</th>\n      <th>symmetry_worst</th>\n      <th>fractal_dimension_worst</th>\n    </tr>\n  </thead>\n  <tbody>\n    <tr>\n      <th>0</th>\n      <td>0.214823</td>\n      <td>0.176530</td>\n      <td>0.207864</td>\n      <td>0.111474</td>\n      <td>0.439379</td>\n      <td>0.219587</td>\n      <td>0.101406</td>\n      <td>0.145577</td>\n      <td>0.415657</td>\n      <td>0.251373</td>\n      <td>...</td>\n      <td>0.167912</td>\n      <td>0.244403</td>\n      <td>0.151751</td>\n      <td>0.075354</td>\n      <td>0.447269</td>\n      <td>0.143761</td>\n      <td>0.187760</td>\n      <td>0.330172</td>\n      <td>0.275050</td>\n      <td>0.244994</td>\n    </tr>\n    <tr>\n      <th>1</th>\n      <td>0.287236</td>\n      <td>0.324653</td>\n      <td>0.268261</td>\n      <td>0.162757</td>\n      <td>0.252505</td>\n      <td>0.069243</td>\n      <td>0.001621</td>\n      <td>0.020711</td>\n      <td>0.383333</td>\n      <td>0.104812</td>\n      <td>...</td>\n      <td>0.224120</td>\n      <td>0.272655</td>\n      <td>0.198366</td>\n      <td>0.107870</td>\n      <td>0.204253</td>\n      <td>0.038018</td>\n      <td>0.001920</td>\n      <td>0.038179</td>\n      <td>0.218687</td>\n      <td>0.082236</td>\n    </tr>\n    <tr>\n      <th>2</th>\n      <td>0.341663</td>\n      <td>0.365911</td>\n      <td>0.335982</td>\n      <td>0.201442</td>\n      <td>0.331137</td>\n      <td>0.341987</td>\n      <td>0.118627</td>\n      <td>0.151988</td>\n      <td>0.225253</td>\n      <td>0.216436</td>\n      <td>...</td>\n      <td>0.303095</td>\n      <td>0.406183</td>\n      <td>0.307236</td>\n      <td>0.158106</td>\n      <td>0.291422</td>\n      <td>0.346592</td>\n      <td>0.261449</td>\n      <td>0.460137</td>\n      <td>0.242485</td>\n      <td>0.250241</td>\n    </tr>\n    <tr>\n      <th>3</th>\n      <td>0.240854</td>\n      <td>0.126141</td>\n      <td>0.235229</td>\n      <td>0.127975</td>\n      <td>0.517920</td>\n      <td>0.264514</td>\n      <td>0.088590</td>\n      <td>0.139066</td>\n      <td>0.301515</td>\n      <td>0.348055</td>\n      <td>...</td>\n      <td>0.196371</td>\n      <td>0.099947</td>\n      <td>0.181832</td>\n      <td>0.089633</td>\n      <td>0.534438</td>\n      <td>0.149252</td>\n      <td>0.168818</td>\n      <td>0.254055</td>\n      <td>0.304359</td>\n      <td>0.271014</td>\n    </tr>\n    <tr>\n      <th>4</th>\n      <td>0.219083</td>\n      <td>0.213392</td>\n      <td>0.218851</td>\n      <td>0.112280</td>\n      <td>0.507087</td>\n      <td>0.364432</td>\n      <td>0.166284</td>\n      <td>0.223509</td>\n      <td>0.417172</td>\n      <td>0.284773</td>\n      <td>...</td>\n      <td>0.167556</td>\n      <td>0.203891</td>\n      <td>0.156980</td>\n      <td>0.071397</td>\n      <td>0.464439</td>\n      <td>0.208333</td>\n      <td>0.239592</td>\n      <td>0.379725</td>\n      <td>0.305862</td>\n      <td>0.204090</td>\n    </tr>\n    <tr>\n      <th>5</th>\n      <td>0.129632</td>\n      <td>0.287792</td>\n      <td>0.117062</td>\n      <td>0.061336</td>\n      <td>0.152298</td>\n      <td>0.015188</td>\n      <td>0.000000</td>\n      <td>0.000000</td>\n      <td>0.299495</td>\n      <td>0.312679</td>\n      <td>...</td>\n      <td>0.072501</td>\n      <td>0.234808</td>\n      <td>0.058967</td>\n      <td>0.029149</td>\n      <td>0.000000</td>\n      <td>0.000000</td>\n      <td>0.000000</td>\n      <td>0.000000</td>\n      <td>0.085922</td>\n      <td>0.111147</td>\n    </tr>\n    <tr>\n      <th>6</th>\n      <td>0.253632</td>\n      <td>0.086574</td>\n      <td>0.242900</td>\n      <td>0.137858</td>\n      <td>0.337637</td>\n      <td>0.163437</td>\n      <td>0.069306</td>\n      <td>0.131561</td>\n      <td>0.317677</td>\n      <td>0.172270</td>\n      <td>...</td>\n      <td>0.202063</td>\n      <td>0.193230</td>\n      <td>0.183326</td>\n      <td>0.093320</td>\n      <td>0.383213</td>\n      <td>0.197790</td>\n      <td>0.186407</td>\n      <td>0.367698</td>\n      <td>0.386774</td>\n      <td>0.221758</td>\n    </tr>\n    <tr>\n      <th>7</th>\n      <td>0.375740</td>\n      <td>0.176530</td>\n      <td>0.363900</td>\n      <td>0.230498</td>\n      <td>0.255936</td>\n      <td>0.247307</td>\n      <td>0.129780</td>\n      <td>0.160089</td>\n      <td>0.316667</td>\n      <td>0.141727</td>\n      <td>...</td>\n      <td>0.329064</td>\n      <td>0.165245</td>\n      <td>0.306738</td>\n      <td>0.177300</td>\n      <td>0.233309</td>\n      <td>0.276529</td>\n      <td>0.327956</td>\n      <td>0.394158</td>\n      <td>0.281062</td>\n      <td>0.294678</td>\n    </tr>\n    <tr>\n      <th>8</th>\n      <td>0.000000</td>\n      <td>0.125803</td>\n      <td>0.000000</td>\n      <td>0.000000</td>\n      <td>0.581114</td>\n      <td>0.210609</td>\n      <td>0.000000</td>\n      <td>0.000000</td>\n      <td>0.439394</td>\n      <td>0.613931</td>\n      <td>...</td>\n      <td>0.000000</td>\n      <td>0.200426</td>\n      <td>0.000000</td>\n      <td>0.000000</td>\n      <td>0.576042</td>\n      <td>0.102031</td>\n      <td>0.000000</td>\n      <td>0.000000</td>\n      <td>0.342184</td>\n      <td>0.413428</td>\n    </tr>\n    <tr>\n      <th>9</th>\n      <td>0.215770</td>\n      <td>0.159959</td>\n      <td>0.213254</td>\n      <td>0.110032</td>\n      <td>0.426198</td>\n      <td>0.346476</td>\n      <td>0.157849</td>\n      <td>0.128926</td>\n      <td>0.382828</td>\n      <td>0.386289</td>\n      <td>...</td>\n      <td>0.154038</td>\n      <td>0.204158</td>\n      <td>0.141292</td>\n      <td>0.066998</td>\n      <td>0.418213</td>\n      <td>0.202622</td>\n      <td>0.187032</td>\n      <td>0.237732</td>\n      <td>0.191132</td>\n      <td>0.279794</td>\n    </tr>\n  </tbody>\n</table>\n<p>10 rows × 30 columns</p>\n</div>"
     },
     "execution_count": 7,
     "metadata": {},
     "output_type": "execute_result"
    }
   ],
   "source": [
    "x_columns = x.columns\n",
    "min_max_scaler = MinMaxScaler()\n",
    "x_train_scaled = min_max_scaler.fit_transform(x_train)\n",
    "x_train_scaled = pd.DataFrame(x_train_scaled, columns=x_columns)\n",
    "x_train_scaled.head(10)"
   ],
   "metadata": {
    "collapsed": false,
    "ExecuteTime": {
     "end_time": "2023-07-30T14:20:50.354222600Z",
     "start_time": "2023-07-30T14:20:50.331601200Z"
    }
   }
  },
  {
   "cell_type": "code",
   "execution_count": 8,
   "outputs": [
    {
     "data": {
      "text/plain": "   radius_mean  texture_mean  perimeter_mean  area_mean  smoothness_mean  \\\n0     0.358390      0.153649        0.372907   0.233555         0.469146   \n1     0.280557      0.353393        0.281400   0.175130         0.640259   \n2     0.269292      0.240717        0.260167   0.165080         0.434115   \n3     0.543755      0.349979        0.525269   0.418638         0.237133   \n4     0.380921      0.829279        0.361618   0.264041         0.201024   \n5     0.433663      0.476312        0.432566   0.307463         0.438157   \n6     0.588817      0.237303        0.582835   0.474418         0.251415   \n7     0.531978      0.489117        0.516298   0.410464         0.073161   \n8     0.142813      0.404609        0.137410   0.080448         0.521692   \n9     0.350197      0.153649        0.340311   0.227832         0.560765   \n\n   compactness_mean  concavity_mean  concave points_mean  symmetry_mean  \\\n0          0.485107        0.386255             0.335463       0.467878   \n1          0.292579        0.326585             0.390841       0.495133   \n2          0.153609        0.163958             0.179446       0.236859   \n3          0.170316        0.217608             0.309585       0.166126   \n4          0.047384        0.124827             0.145847       0.316029   \n5          0.309445        0.277837             0.298882       0.515899   \n6          0.277940        0.317794             0.514750       0.243997   \n7          0.175853        0.293820             0.307668       0.262816   \n8          0.090854        0.128689             0.163472       0.241402   \n9          0.194947        0.183671             0.345847       0.184945   \n\n   fractal_dimension_mean  ...  radius_worst  texture_worst  perimeter_worst  \\\n0                0.507582  ...      0.318386       0.144806         0.358427   \n1                0.375105  ...      0.286065       0.480937         0.290482   \n2                0.310447  ...      0.207103       0.200420         0.206362   \n3                0.090354  ...      0.516815       0.425324         0.509350   \n4                0.062763  ...      0.351117       0.794334         0.334376   \n5                0.188500  ...      0.441535       0.611403         0.452228   \n6                0.037911  ...      0.546273       0.126268         0.553845   \n7                0.072452  ...      0.453400       0.367261         0.448620   \n8                0.304128  ...      0.114639       0.533753         0.115387   \n9                0.236942  ...      0.291384       0.095488         0.292285   \n\n   area_worst  smoothness_worst  compactness_worst  concavity_worst  \\\n0    0.195696          0.356054           0.310115         0.257109   \n1    0.179054          0.744388           0.362862         0.399840   \n2    0.120906          0.496149           0.154457         0.178994   \n3    0.396471          0.292151           0.191906         0.282588   \n4    0.236533          0.221694           0.047035         0.123562   \n5    0.317939          0.424054           0.252501         0.238978   \n6    0.424876          0.202032           0.149291         0.180831   \n7    0.335650          0.003932           0.144026         0.202476   \n8    0.059885          0.522366           0.050949         0.094329   \n9    0.175879          0.384729           0.095849         0.109665   \n\n   concave points_worst  symmetry_worst  fractal_dimension_worst  \n0              0.412202        0.248768                 0.242949  \n1              0.776786        0.460280                 0.412305  \n2              0.392857        0.357776                 0.267611  \n3              0.584449        0.323477                 0.094057  \n4              0.244606        0.328800                 0.043356  \n5              0.488095        0.377489                 0.138725  \n6              0.661086        0.173073                 0.048996  \n7              0.341555        0.158486                 0.069133  \n8              0.250595        0.259807                 0.147186  \n9              0.397693        0.205204                 0.151253  \n\n[10 rows x 30 columns]",
      "text/html": "<div>\n<style scoped>\n    .dataframe tbody tr th:only-of-type {\n        vertical-align: middle;\n    }\n\n    .dataframe tbody tr th {\n        vertical-align: top;\n    }\n\n    .dataframe thead th {\n        text-align: right;\n    }\n</style>\n<table border=\"1\" class=\"dataframe\">\n  <thead>\n    <tr style=\"text-align: right;\">\n      <th></th>\n      <th>radius_mean</th>\n      <th>texture_mean</th>\n      <th>perimeter_mean</th>\n      <th>area_mean</th>\n      <th>smoothness_mean</th>\n      <th>compactness_mean</th>\n      <th>concavity_mean</th>\n      <th>concave points_mean</th>\n      <th>symmetry_mean</th>\n      <th>fractal_dimension_mean</th>\n      <th>...</th>\n      <th>radius_worst</th>\n      <th>texture_worst</th>\n      <th>perimeter_worst</th>\n      <th>area_worst</th>\n      <th>smoothness_worst</th>\n      <th>compactness_worst</th>\n      <th>concavity_worst</th>\n      <th>concave points_worst</th>\n      <th>symmetry_worst</th>\n      <th>fractal_dimension_worst</th>\n    </tr>\n  </thead>\n  <tbody>\n    <tr>\n      <th>0</th>\n      <td>0.358390</td>\n      <td>0.153649</td>\n      <td>0.372907</td>\n      <td>0.233555</td>\n      <td>0.469146</td>\n      <td>0.485107</td>\n      <td>0.386255</td>\n      <td>0.335463</td>\n      <td>0.467878</td>\n      <td>0.507582</td>\n      <td>...</td>\n      <td>0.318386</td>\n      <td>0.144806</td>\n      <td>0.358427</td>\n      <td>0.195696</td>\n      <td>0.356054</td>\n      <td>0.310115</td>\n      <td>0.257109</td>\n      <td>0.412202</td>\n      <td>0.248768</td>\n      <td>0.242949</td>\n    </tr>\n    <tr>\n      <th>1</th>\n      <td>0.280557</td>\n      <td>0.353393</td>\n      <td>0.281400</td>\n      <td>0.175130</td>\n      <td>0.640259</td>\n      <td>0.292579</td>\n      <td>0.326585</td>\n      <td>0.390841</td>\n      <td>0.495133</td>\n      <td>0.375105</td>\n      <td>...</td>\n      <td>0.286065</td>\n      <td>0.480937</td>\n      <td>0.290482</td>\n      <td>0.179054</td>\n      <td>0.744388</td>\n      <td>0.362862</td>\n      <td>0.399840</td>\n      <td>0.776786</td>\n      <td>0.460280</td>\n      <td>0.412305</td>\n    </tr>\n    <tr>\n      <th>2</th>\n      <td>0.269292</td>\n      <td>0.240717</td>\n      <td>0.260167</td>\n      <td>0.165080</td>\n      <td>0.434115</td>\n      <td>0.153609</td>\n      <td>0.163958</td>\n      <td>0.179446</td>\n      <td>0.236859</td>\n      <td>0.310447</td>\n      <td>...</td>\n      <td>0.207103</td>\n      <td>0.200420</td>\n      <td>0.206362</td>\n      <td>0.120906</td>\n      <td>0.496149</td>\n      <td>0.154457</td>\n      <td>0.178994</td>\n      <td>0.392857</td>\n      <td>0.357776</td>\n      <td>0.267611</td>\n    </tr>\n    <tr>\n      <th>3</th>\n      <td>0.543755</td>\n      <td>0.349979</td>\n      <td>0.525269</td>\n      <td>0.418638</td>\n      <td>0.237133</td>\n      <td>0.170316</td>\n      <td>0.217608</td>\n      <td>0.309585</td>\n      <td>0.166126</td>\n      <td>0.090354</td>\n      <td>...</td>\n      <td>0.516815</td>\n      <td>0.425324</td>\n      <td>0.509350</td>\n      <td>0.396471</td>\n      <td>0.292151</td>\n      <td>0.191906</td>\n      <td>0.282588</td>\n      <td>0.584449</td>\n      <td>0.323477</td>\n      <td>0.094057</td>\n    </tr>\n    <tr>\n      <th>4</th>\n      <td>0.380921</td>\n      <td>0.829279</td>\n      <td>0.361618</td>\n      <td>0.264041</td>\n      <td>0.201024</td>\n      <td>0.047384</td>\n      <td>0.124827</td>\n      <td>0.145847</td>\n      <td>0.316029</td>\n      <td>0.062763</td>\n      <td>...</td>\n      <td>0.351117</td>\n      <td>0.794334</td>\n      <td>0.334376</td>\n      <td>0.236533</td>\n      <td>0.221694</td>\n      <td>0.047035</td>\n      <td>0.123562</td>\n      <td>0.244606</td>\n      <td>0.328800</td>\n      <td>0.043356</td>\n    </tr>\n    <tr>\n      <th>5</th>\n      <td>0.433663</td>\n      <td>0.476312</td>\n      <td>0.432566</td>\n      <td>0.307463</td>\n      <td>0.438157</td>\n      <td>0.309445</td>\n      <td>0.277837</td>\n      <td>0.298882</td>\n      <td>0.515899</td>\n      <td>0.188500</td>\n      <td>...</td>\n      <td>0.441535</td>\n      <td>0.611403</td>\n      <td>0.452228</td>\n      <td>0.317939</td>\n      <td>0.424054</td>\n      <td>0.252501</td>\n      <td>0.238978</td>\n      <td>0.488095</td>\n      <td>0.377489</td>\n      <td>0.138725</td>\n    </tr>\n    <tr>\n      <th>6</th>\n      <td>0.588817</td>\n      <td>0.237303</td>\n      <td>0.582835</td>\n      <td>0.474418</td>\n      <td>0.251415</td>\n      <td>0.277940</td>\n      <td>0.317794</td>\n      <td>0.514750</td>\n      <td>0.243997</td>\n      <td>0.037911</td>\n      <td>...</td>\n      <td>0.546273</td>\n      <td>0.126268</td>\n      <td>0.553845</td>\n      <td>0.424876</td>\n      <td>0.202032</td>\n      <td>0.149291</td>\n      <td>0.180831</td>\n      <td>0.661086</td>\n      <td>0.173073</td>\n      <td>0.048996</td>\n    </tr>\n    <tr>\n      <th>7</th>\n      <td>0.531978</td>\n      <td>0.489117</td>\n      <td>0.516298</td>\n      <td>0.410464</td>\n      <td>0.073161</td>\n      <td>0.175853</td>\n      <td>0.293820</td>\n      <td>0.307668</td>\n      <td>0.262816</td>\n      <td>0.072452</td>\n      <td>...</td>\n      <td>0.453400</td>\n      <td>0.367261</td>\n      <td>0.448620</td>\n      <td>0.335650</td>\n      <td>0.003932</td>\n      <td>0.144026</td>\n      <td>0.202476</td>\n      <td>0.341555</td>\n      <td>0.158486</td>\n      <td>0.069133</td>\n    </tr>\n    <tr>\n      <th>8</th>\n      <td>0.142813</td>\n      <td>0.404609</td>\n      <td>0.137410</td>\n      <td>0.080448</td>\n      <td>0.521692</td>\n      <td>0.090854</td>\n      <td>0.128689</td>\n      <td>0.163472</td>\n      <td>0.241402</td>\n      <td>0.304128</td>\n      <td>...</td>\n      <td>0.114639</td>\n      <td>0.533753</td>\n      <td>0.115387</td>\n      <td>0.059885</td>\n      <td>0.522366</td>\n      <td>0.050949</td>\n      <td>0.094329</td>\n      <td>0.250595</td>\n      <td>0.259807</td>\n      <td>0.147186</td>\n    </tr>\n    <tr>\n      <th>9</th>\n      <td>0.350197</td>\n      <td>0.153649</td>\n      <td>0.340311</td>\n      <td>0.227832</td>\n      <td>0.560765</td>\n      <td>0.194947</td>\n      <td>0.183671</td>\n      <td>0.345847</td>\n      <td>0.184945</td>\n      <td>0.236942</td>\n      <td>...</td>\n      <td>0.291384</td>\n      <td>0.095488</td>\n      <td>0.292285</td>\n      <td>0.175879</td>\n      <td>0.384729</td>\n      <td>0.095849</td>\n      <td>0.109665</td>\n      <td>0.397693</td>\n      <td>0.205204</td>\n      <td>0.151253</td>\n    </tr>\n  </tbody>\n</table>\n<p>10 rows × 30 columns</p>\n</div>"
     },
     "execution_count": 8,
     "metadata": {},
     "output_type": "execute_result"
    }
   ],
   "source": [
    "x_test_scaled = min_max_scaler.fit_transform(x_test)\n",
    "x_test_scaled = pd.DataFrame(x_test_scaled, columns=x_columns)\n",
    "x_test_scaled.head(10)"
   ],
   "metadata": {
    "collapsed": false,
    "ExecuteTime": {
     "end_time": "2023-07-30T14:20:51.081186900Z",
     "start_time": "2023-07-30T14:20:51.060416900Z"
    }
   }
  },
  {
   "cell_type": "code",
   "execution_count": 9,
   "outputs": [],
   "source": [
    "from sklearn import metrics"
   ],
   "metadata": {
    "collapsed": false,
    "ExecuteTime": {
     "end_time": "2023-07-30T14:20:55.833426Z",
     "start_time": "2023-07-30T14:20:55.810489600Z"
    }
   }
  },
  {
   "cell_type": "code",
   "execution_count": 10,
   "outputs": [],
   "source": [
    "from sklearn.ensemble import RandomForestClassifier"
   ],
   "metadata": {
    "collapsed": false,
    "ExecuteTime": {
     "end_time": "2023-07-30T14:20:57.263331600Z",
     "start_time": "2023-07-30T14:20:56.489430100Z"
    }
   }
  },
  {
   "cell_type": "code",
   "execution_count": 11,
   "outputs": [
    {
     "name": "stdout",
     "output_type": "stream",
     "text": [
      "Estimators: 5 / Depth: 5 --- Accuracy: 0.906 / Precision: 0.831 / Recall: 0.937\n",
      "Estimators: 5 / Depth: 10 --- Accuracy: 0.842 / Precision: 0.725 / Recall: 0.921\n",
      "Estimators: 5 / Depth: 20 --- Accuracy: 0.877 / Precision: 0.769 / Recall: 0.952\n",
      "Estimators: 5 / Depth: 30 --- Accuracy: 0.813 / Precision: 0.674 / Recall: 0.952\n",
      "Estimators: 5 / Depth: None --- Accuracy: 0.842 / Precision: 0.737 / Recall: 0.889\n",
      "Estimators: 10 / Depth: 5 --- Accuracy: 0.901 / Precision: 0.829 / Recall: 0.921\n",
      "Estimators: 10 / Depth: 10 --- Accuracy: 0.918 / Precision: 0.889 / Recall: 0.889\n",
      "Estimators: 10 / Depth: 20 --- Accuracy: 0.924 / Precision: 0.879 / Recall: 0.921\n",
      "Estimators: 10 / Depth: 30 --- Accuracy: 0.930 / Precision: 0.892 / Recall: 0.921\n",
      "Estimators: 10 / Depth: None --- Accuracy: 0.918 / Precision: 0.866 / Recall: 0.921\n",
      "Estimators: 20 / Depth: 5 --- Accuracy: 0.930 / Precision: 0.892 / Recall: 0.921\n",
      "Estimators: 20 / Depth: 10 --- Accuracy: 0.930 / Precision: 0.892 / Recall: 0.921\n",
      "Estimators: 20 / Depth: 20 --- Accuracy: 0.912 / Precision: 0.853 / Recall: 0.921\n",
      "Estimators: 20 / Depth: 30 --- Accuracy: 0.906 / Precision: 0.841 / Recall: 0.921\n",
      "Estimators: 20 / Depth: None --- Accuracy: 0.918 / Precision: 0.866 / Recall: 0.921\n",
      "Estimators: 50 / Depth: 5 --- Accuracy: 0.918 / Precision: 0.866 / Recall: 0.921\n",
      "Estimators: 50 / Depth: 10 --- Accuracy: 0.930 / Precision: 0.892 / Recall: 0.921\n",
      "Estimators: 50 / Depth: 20 --- Accuracy: 0.912 / Precision: 0.853 / Recall: 0.921\n",
      "Estimators: 50 / Depth: 30 --- Accuracy: 0.924 / Precision: 0.879 / Recall: 0.921\n",
      "Estimators: 50 / Depth: None --- Accuracy: 0.912 / Precision: 0.853 / Recall: 0.921\n",
      "Estimators: 100 / Depth: 5 --- Accuracy: 0.918 / Precision: 0.866 / Recall: 0.921\n",
      "Estimators: 100 / Depth: 10 --- Accuracy: 0.912 / Precision: 0.853 / Recall: 0.921\n",
      "Estimators: 100 / Depth: 20 --- Accuracy: 0.912 / Precision: 0.853 / Recall: 0.921\n",
      "Estimators: 100 / Depth: 30 --- Accuracy: 0.912 / Precision: 0.853 / Recall: 0.921\n",
      "Estimators: 100 / Depth: None --- Accuracy: 0.924 / Precision: 0.879 / Recall: 0.921\n"
     ]
    }
   ],
   "source": [
    "num_est = [5, 10, 20, 50, 100]\n",
    "max_depths = [5, 10, 20, 30, None]\n",
    "\n",
    "for est in num_est:\n",
    "    for depth in max_depths:\n",
    "        rf = RandomForestClassifier(n_estimators=est, max_depth=depth)\n",
    "        rf.fit(x_train_scaled, y_train)\n",
    "        y_pred = rf.predict(x_test_scaled)\n",
    "\n",
    "        accuracy = \"%.3f\" % metrics.accuracy_score(y_test, y_pred)\n",
    "        precision = \"%.3f\" % metrics.precision_score(y_test, y_pred, pos_label='M')\n",
    "        recall = \"%.3f\" % metrics.recall_score(y_test, y_pred, pos_label='M')\n",
    "\n",
    "        print(f'Estimators: {est} / Depth: {depth} --- Accuracy: {accuracy} / Precision: {precision} / Recall: {recall}')"
   ],
   "metadata": {
    "collapsed": false,
    "ExecuteTime": {
     "end_time": "2023-07-30T14:21:07.306243800Z",
     "start_time": "2023-07-30T14:21:04.983935600Z"
    }
   }
  },
  {
   "cell_type": "code",
   "execution_count": 12,
   "outputs": [],
   "source": [
    "from sklearn.linear_model import LogisticRegression"
   ],
   "metadata": {
    "collapsed": false,
    "ExecuteTime": {
     "end_time": "2023-07-30T14:21:27.693831300Z",
     "start_time": "2023-07-30T14:21:27.676853Z"
    }
   }
  },
  {
   "cell_type": "code",
   "execution_count": 13,
   "outputs": [
    {
     "name": "stderr",
     "output_type": "stream",
     "text": [
      "C:\\Users\\rueip\\AppData\\Local\\Programs\\Python\\Python311\\Lib\\site-packages\\sklearn\\linear_model\\_logistic.py:1192: UserWarning: Setting penalty=None will ignore the C and l1_ratio parameters\n",
      "  warnings.warn(\n",
      "C:\\Users\\rueip\\AppData\\Local\\Programs\\Python\\Python311\\Lib\\site-packages\\sklearn\\linear_model\\_logistic.py:460: ConvergenceWarning: lbfgs failed to converge (status=1):\n",
      "STOP: TOTAL NO. of ITERATIONS REACHED LIMIT.\n",
      "\n",
      "Increase the number of iterations (max_iter) or scale the data as shown in:\n",
      "    https://scikit-learn.org/stable/modules/preprocessing.html\n",
      "Please also refer to the documentation for alternative solver options:\n",
      "    https://scikit-learn.org/stable/modules/linear_model.html#logistic-regression\n",
      "  n_iter_i = _check_optimize_result(\n",
      "C:\\Users\\rueip\\AppData\\Local\\Programs\\Python\\Python311\\Lib\\site-packages\\sklearn\\linear_model\\_logistic.py:1192: UserWarning: Setting penalty=None will ignore the C and l1_ratio parameters\n",
      "  warnings.warn(\n",
      "C:\\Users\\rueip\\AppData\\Local\\Programs\\Python\\Python311\\Lib\\site-packages\\sklearn\\linear_model\\_logistic.py:460: ConvergenceWarning: lbfgs failed to converge (status=1):\n",
      "STOP: TOTAL NO. of ITERATIONS REACHED LIMIT.\n",
      "\n",
      "Increase the number of iterations (max_iter) or scale the data as shown in:\n",
      "    https://scikit-learn.org/stable/modules/preprocessing.html\n",
      "Please also refer to the documentation for alternative solver options:\n",
      "    https://scikit-learn.org/stable/modules/linear_model.html#logistic-regression\n",
      "  n_iter_i = _check_optimize_result(\n",
      "C:\\Users\\rueip\\AppData\\Local\\Programs\\Python\\Python311\\Lib\\site-packages\\sklearn\\linear_model\\_logistic.py:1192: UserWarning: Setting penalty=None will ignore the C and l1_ratio parameters\n",
      "  warnings.warn(\n",
      "C:\\Users\\rueip\\AppData\\Local\\Programs\\Python\\Python311\\Lib\\site-packages\\sklearn\\linear_model\\_logistic.py:460: ConvergenceWarning: lbfgs failed to converge (status=1):\n",
      "STOP: TOTAL NO. of ITERATIONS REACHED LIMIT.\n",
      "\n",
      "Increase the number of iterations (max_iter) or scale the data as shown in:\n",
      "    https://scikit-learn.org/stable/modules/preprocessing.html\n",
      "Please also refer to the documentation for alternative solver options:\n",
      "    https://scikit-learn.org/stable/modules/linear_model.html#logistic-regression\n",
      "  n_iter_i = _check_optimize_result(\n",
      "C:\\Users\\rueip\\AppData\\Local\\Programs\\Python\\Python311\\Lib\\site-packages\\sklearn\\linear_model\\_logistic.py:1192: UserWarning: Setting penalty=None will ignore the C and l1_ratio parameters\n",
      "  warnings.warn(\n",
      "C:\\Users\\rueip\\AppData\\Local\\Programs\\Python\\Python311\\Lib\\site-packages\\sklearn\\linear_model\\_logistic.py:460: ConvergenceWarning: lbfgs failed to converge (status=1):\n",
      "STOP: TOTAL NO. of ITERATIONS REACHED LIMIT.\n",
      "\n",
      "Increase the number of iterations (max_iter) or scale the data as shown in:\n",
      "    https://scikit-learn.org/stable/modules/preprocessing.html\n",
      "Please also refer to the documentation for alternative solver options:\n",
      "    https://scikit-learn.org/stable/modules/linear_model.html#logistic-regression\n",
      "  n_iter_i = _check_optimize_result(\n",
      "C:\\Users\\rueip\\AppData\\Local\\Programs\\Python\\Python311\\Lib\\site-packages\\sklearn\\linear_model\\_logistic.py:460: ConvergenceWarning: lbfgs failed to converge (status=1):\n",
      "STOP: TOTAL NO. of ITERATIONS REACHED LIMIT.\n",
      "\n",
      "Increase the number of iterations (max_iter) or scale the data as shown in:\n",
      "    https://scikit-learn.org/stable/modules/preprocessing.html\n",
      "Please also refer to the documentation for alternative solver options:\n",
      "    https://scikit-learn.org/stable/modules/linear_model.html#logistic-regression\n",
      "  n_iter_i = _check_optimize_result(\n",
      "C:\\Users\\rueip\\AppData\\Local\\Programs\\Python\\Python311\\Lib\\site-packages\\sklearn\\linear_model\\_logistic.py:1192: UserWarning: Setting penalty=None will ignore the C and l1_ratio parameters\n",
      "  warnings.warn(\n"
     ]
    },
    {
     "name": "stdout",
     "output_type": "stream",
     "text": [
      "Penalty: None / C: 0.0001 --- Accuracy: 0.813 / Precision: 0.663 / Recall: 1.000\n",
      "Penalty: None / C: 0.001 --- Accuracy: 0.813 / Precision: 0.663 / Recall: 1.000\n",
      "Penalty: None / C: 0.01 --- Accuracy: 0.813 / Precision: 0.663 / Recall: 1.000\n",
      "Penalty: None / C: 0.1 --- Accuracy: 0.813 / Precision: 0.663 / Recall: 1.000\n",
      "Penalty: None / C: 1 --- Accuracy: 0.813 / Precision: 0.663 / Recall: 1.000\n",
      "Penalty: None / C: 10 --- Accuracy: 0.813 / Precision: 0.663 / Recall: 1.000\n",
      "Penalty: l2 / C: 0.0001 --- Accuracy: 0.632 / Precision: 0.000 / Recall: 0.000\n",
      "Penalty: l2 / C: 0.001 --- Accuracy: 0.632 / Precision: 0.000 / Recall: 0.000\n",
      "Penalty: l2 / C: 0.01 --- Accuracy: 0.772 / Precision: 1.000 / Recall: 0.381\n",
      "Penalty: l2 / C: 0.1 --- Accuracy: 0.965 / Precision: 1.000 / Recall: 0.905\n",
      "Penalty: l2 / C: 1 --- Accuracy: 0.965 / Precision: 0.983 / Recall: 0.921\n",
      "Penalty: l2 / C: 10 --- Accuracy: 0.947 / Precision: 0.897 / Recall: 0.968\n"
     ]
    },
    {
     "name": "stderr",
     "output_type": "stream",
     "text": [
      "C:\\Users\\rueip\\AppData\\Local\\Programs\\Python\\Python311\\Lib\\site-packages\\sklearn\\linear_model\\_logistic.py:460: ConvergenceWarning: lbfgs failed to converge (status=1):\n",
      "STOP: TOTAL NO. of ITERATIONS REACHED LIMIT.\n",
      "\n",
      "Increase the number of iterations (max_iter) or scale the data as shown in:\n",
      "    https://scikit-learn.org/stable/modules/preprocessing.html\n",
      "Please also refer to the documentation for alternative solver options:\n",
      "    https://scikit-learn.org/stable/modules/linear_model.html#logistic-regression\n",
      "  n_iter_i = _check_optimize_result(\n",
      "C:\\Users\\rueip\\AppData\\Local\\Programs\\Python\\Python311\\Lib\\site-packages\\sklearn\\metrics\\_classification.py:1469: UndefinedMetricWarning: Precision is ill-defined and being set to 0.0 due to no predicted samples. Use `zero_division` parameter to control this behavior.\n",
      "  _warn_prf(average, modifier, msg_start, len(result))\n",
      "C:\\Users\\rueip\\AppData\\Local\\Programs\\Python\\Python311\\Lib\\site-packages\\sklearn\\metrics\\_classification.py:1469: UndefinedMetricWarning: Precision is ill-defined and being set to 0.0 due to no predicted samples. Use `zero_division` parameter to control this behavior.\n",
      "  _warn_prf(average, modifier, msg_start, len(result))\n"
     ]
    }
   ],
   "source": [
    "penalties = [None, 'l2']\n",
    "C = [0.0001, 0.001, 0.01, 0.1, 1, 10]\n",
    "\n",
    "for penalty in penalties:\n",
    "    for c_value in C:\n",
    "        lr = LogisticRegression(penalty=penalty, C=c_value)\n",
    "        lr.fit(x_train_scaled, y_train)\n",
    "        y_pred = lr.predict(x_test_scaled)\n",
    "\n",
    "        accuracy = \"%.3f\" % metrics.accuracy_score(y_test, y_pred)\n",
    "        precision = \"%.3f\" % metrics.precision_score(y_test, y_pred, pos_label='M')\n",
    "        recall = \"%.3f\" % metrics.recall_score(y_test, y_pred, pos_label='M')\n",
    "\n",
    "        print(f'Penalty: {penalty} / C: {c_value} --- Accuracy: {accuracy} / Precision: {precision} / Recall: {recall}')"
   ],
   "metadata": {
    "collapsed": false,
    "ExecuteTime": {
     "end_time": "2023-07-30T14:24:10.483768600Z",
     "start_time": "2023-07-30T14:24:10.085738100Z"
    }
   }
  },
  {
   "cell_type": "code",
   "execution_count": 15,
   "outputs": [],
   "source": [
    "from sklearn.svm import SVC"
   ],
   "metadata": {
    "collapsed": false,
    "ExecuteTime": {
     "end_time": "2023-07-30T14:28:25.907614600Z",
     "start_time": "2023-07-30T14:28:25.897519400Z"
    }
   }
  },
  {
   "cell_type": "code",
   "execution_count": 19,
   "outputs": [
    {
     "name": "stdout",
     "output_type": "stream",
     "text": [
      "C: 0.1 / Kernel: linear --- Accuracy: 0.965 / Precision: 1.000 / Recall: 0.905\n",
      "C: 0.1 / Kernel: poly / Degree: 1 --- Accuracy: 0.965 / Precision: 1.000 / Recall: 0.905\n",
      "C: 0.1 / Kernel: poly / Degree: 2 --- Accuracy: 0.965 / Precision: 0.967 / Recall: 0.937\n",
      "C: 0.1 / Kernel: poly / Degree: 3 --- Accuracy: 0.953 / Precision: 0.937 / Recall: 0.937\n",
      "C: 0.1 / Kernel: poly / Degree: 4 --- Accuracy: 0.947 / Precision: 0.922 / Recall: 0.937\n",
      "C: 0.1 / Kernel: poly / Degree: 5 --- Accuracy: 0.918 / Precision: 0.855 / Recall: 0.937\n",
      "C: 0.1 / Kernel: rbf --- Accuracy: 0.953 / Precision: 0.951 / Recall: 0.921\n",
      "C: 0.1 / Kernel: sigmoid --- Accuracy: 0.515 / Precision: 0.000 / Recall: 0.000\n",
      "C: 1 / Kernel: linear --- Accuracy: 0.959 / Precision: 0.938 / Recall: 0.952\n",
      "C: 1 / Kernel: poly / Degree: 1 --- Accuracy: 0.959 / Precision: 0.938 / Recall: 0.952\n",
      "C: 1 / Kernel: poly / Degree: 2 --- Accuracy: 0.965 / Precision: 0.938 / Recall: 0.968\n",
      "C: 1 / Kernel: poly / Degree: 3 --- Accuracy: 0.924 / Precision: 0.857 / Recall: 0.952\n",
      "C: 1 / Kernel: poly / Degree: 4 --- Accuracy: 0.906 / Precision: 0.841 / Recall: 0.921\n",
      "C: 1 / Kernel: poly / Degree: 5 --- Accuracy: 0.912 / Precision: 0.853 / Recall: 0.921\n",
      "C: 1 / Kernel: rbf --- Accuracy: 0.965 / Precision: 0.938 / Recall: 0.968\n",
      "C: 1 / Kernel: sigmoid --- Accuracy: 0.322 / Precision: 0.035 / Recall: 0.032\n",
      "C: 10 / Kernel: linear --- Accuracy: 0.947 / Precision: 0.897 / Recall: 0.968\n",
      "C: 10 / Kernel: poly / Degree: 1 --- Accuracy: 0.947 / Precision: 0.897 / Recall: 0.968\n",
      "C: 10 / Kernel: poly / Degree: 2 --- Accuracy: 0.918 / Precision: 0.836 / Recall: 0.968\n",
      "C: 10 / Kernel: poly / Degree: 3 --- Accuracy: 0.901 / Precision: 0.819 / Recall: 0.937\n",
      "C: 10 / Kernel: poly / Degree: 4 --- Accuracy: 0.883 / Precision: 0.803 / Recall: 0.905\n",
      "C: 10 / Kernel: poly / Degree: 5 --- Accuracy: 0.854 / Precision: 0.750 / Recall: 0.905\n",
      "C: 10 / Kernel: rbf --- Accuracy: 0.942 / Precision: 0.873 / Recall: 0.984\n",
      "C: 10 / Kernel: sigmoid --- Accuracy: 0.287 / Precision: 0.032 / Recall: 0.032\n"
     ]
    }
   ],
   "source": [
    "C = [0.1, 1, 10]\n",
    "kernels = ['linear', 'poly', 'rbf', 'sigmoid']\n",
    "degrees = [1, 2, 3, 4, 5]\n",
    "\n",
    "for c_value in C:\n",
    "    for kernel in kernels:\n",
    "        if kernel == 'poly':\n",
    "            for degree in degrees:\n",
    "                svc = SVC(C=c_value, kernel=kernel, degree=degree)\n",
    "                svc.fit(x_train_scaled, y_train)\n",
    "                y_pred = svc.predict(x_test_scaled)\n",
    "\n",
    "                accuracy = \"%.3f\" % metrics.accuracy_score(y_test, y_pred)\n",
    "                precision = \"%.3f\" % metrics.precision_score(y_test, y_pred, pos_label='M')\n",
    "                recall = \"%.3f\" % metrics.recall_score(y_test, y_pred, pos_label='M')\n",
    "\n",
    "                print(f'C: {c_value} / Kernel: {kernel} / Degree: {degree} --- Accuracy: {accuracy} / Precision: {precision} / Recall: {recall}')\n",
    "        else:\n",
    "            svc = SVC(C=c_value, kernel=kernel)\n",
    "            svc.fit(x_train_scaled, y_train)\n",
    "            y_pred = svc.predict(x_test_scaled)\n",
    "\n",
    "            accuracy = \"%.3f\" % metrics.accuracy_score(y_test, y_pred)\n",
    "            precision = \"%.3f\" % metrics.precision_score(y_test, y_pred, pos_label='M')\n",
    "            recall = \"%.3f\" % metrics.recall_score(y_test, y_pred, pos_label='M')\n",
    "\n",
    "            print(f'C: {c_value} / Kernel: {kernel} --- Accuracy: {accuracy} / Precision: {precision} / Recall: {recall}')"
   ],
   "metadata": {
    "collapsed": false,
    "ExecuteTime": {
     "end_time": "2023-07-30T14:31:44.288881500Z",
     "start_time": "2023-07-30T14:31:44.084409400Z"
    }
   }
  },
  {
   "cell_type": "code",
   "execution_count": 20,
   "outputs": [],
   "source": [
    "from sklearn.neighbors import KNeighborsClassifier"
   ],
   "metadata": {
    "collapsed": false,
    "ExecuteTime": {
     "end_time": "2023-07-30T14:32:05.098576500Z",
     "start_time": "2023-07-30T14:32:05.077527300Z"
    }
   }
  },
  {
   "cell_type": "code",
   "execution_count": 21,
   "outputs": [
    {
     "name": "stdout",
     "output_type": "stream",
     "text": [
      "Neighbors: 2 / Weight: uniform --- Accuracy: 0.936 / Precision: 0.964 / Recall: 0.857\n",
      "Neighbors: 2 / Weight: distance --- Accuracy: 0.918 / Precision: 0.877 / Recall: 0.905\n",
      "Neighbors: 3 / Weight: uniform --- Accuracy: 0.942 / Precision: 0.965 / Recall: 0.873\n",
      "Neighbors: 3 / Weight: distance --- Accuracy: 0.942 / Precision: 0.965 / Recall: 0.873\n",
      "Neighbors: 4 / Weight: uniform --- Accuracy: 0.942 / Precision: 0.965 / Recall: 0.873\n",
      "Neighbors: 4 / Weight: distance --- Accuracy: 0.930 / Precision: 0.932 / Recall: 0.873\n",
      "Neighbors: 5 / Weight: uniform --- Accuracy: 0.947 / Precision: 0.950 / Recall: 0.905\n",
      "Neighbors: 5 / Weight: distance --- Accuracy: 0.947 / Precision: 0.950 / Recall: 0.905\n",
      "Neighbors: 6 / Weight: uniform --- Accuracy: 0.953 / Precision: 0.966 / Recall: 0.905\n",
      "Neighbors: 6 / Weight: distance --- Accuracy: 0.947 / Precision: 0.950 / Recall: 0.905\n",
      "Neighbors: 7 / Weight: uniform --- Accuracy: 0.947 / Precision: 0.935 / Recall: 0.921\n",
      "Neighbors: 7 / Weight: distance --- Accuracy: 0.947 / Precision: 0.935 / Recall: 0.921\n",
      "Neighbors: 8 / Weight: uniform --- Accuracy: 0.959 / Precision: 0.967 / Recall: 0.921\n",
      "Neighbors: 8 / Weight: distance --- Accuracy: 0.953 / Precision: 0.951 / Recall: 0.921\n",
      "Neighbors: 9 / Weight: uniform --- Accuracy: 0.953 / Precision: 0.951 / Recall: 0.921\n",
      "Neighbors: 9 / Weight: distance --- Accuracy: 0.953 / Precision: 0.951 / Recall: 0.921\n",
      "Neighbors: 10 / Weight: uniform --- Accuracy: 0.953 / Precision: 0.951 / Recall: 0.921\n",
      "Neighbors: 10 / Weight: distance --- Accuracy: 0.953 / Precision: 0.951 / Recall: 0.921\n",
      "Neighbors: 11 / Weight: uniform --- Accuracy: 0.959 / Precision: 0.952 / Recall: 0.937\n",
      "Neighbors: 11 / Weight: distance --- Accuracy: 0.959 / Precision: 0.952 / Recall: 0.937\n",
      "Neighbors: 12 / Weight: uniform --- Accuracy: 0.953 / Precision: 0.951 / Recall: 0.921\n",
      "Neighbors: 12 / Weight: distance --- Accuracy: 0.953 / Precision: 0.951 / Recall: 0.921\n",
      "Neighbors: 13 / Weight: uniform --- Accuracy: 0.947 / Precision: 0.935 / Recall: 0.921\n",
      "Neighbors: 13 / Weight: distance --- Accuracy: 0.947 / Precision: 0.935 / Recall: 0.921\n",
      "Neighbors: 14 / Weight: uniform --- Accuracy: 0.953 / Precision: 0.951 / Recall: 0.921\n",
      "Neighbors: 14 / Weight: distance --- Accuracy: 0.953 / Precision: 0.951 / Recall: 0.921\n"
     ]
    }
   ],
   "source": [
    "max_num_neighbors = 14\n",
    "weights = ['uniform', 'distance']\n",
    "\n",
    "for num_neighbor in range(2, max_num_neighbors+1):\n",
    "    for weight in weights:\n",
    "        knn = KNeighborsClassifier(n_neighbors=num_neighbor, weights=weight)\n",
    "        knn.fit(x_train_scaled.values, y_train)\n",
    "        y_pred = knn.predict(x_test_scaled.values)\n",
    "\n",
    "        accuracy = \"%.3f\" % metrics.accuracy_score(y_test, y_pred)\n",
    "        precision = \"%.3f\" % metrics.precision_score(y_test, y_pred, pos_label='M')\n",
    "        recall = \"%.3f\" % metrics.recall_score(y_test, y_pred, pos_label='M')\n",
    "\n",
    "        print(f'Neighbors: {num_neighbor} / Weight: {weight} --- Accuracy: {accuracy} / Precision: {precision} / Recall: {recall}')"
   ],
   "metadata": {
    "collapsed": false,
    "ExecuteTime": {
     "end_time": "2023-07-30T14:35:22.743477700Z",
     "start_time": "2023-07-30T14:35:22.370726100Z"
    }
   }
  },
  {
   "cell_type": "code",
   "execution_count": 22,
   "outputs": [],
   "source": [
    "from sklearn.neural_network import MLPClassifier"
   ],
   "metadata": {
    "collapsed": false,
    "ExecuteTime": {
     "end_time": "2023-07-30T14:38:33.893188800Z",
     "start_time": "2023-07-30T14:38:33.857777200Z"
    }
   }
  },
  {
   "cell_type": "code",
   "execution_count": 37,
   "outputs": [
    {
     "name": "stdout",
     "output_type": "stream",
     "text": [
      "Hidden Layer Size: 10 / Activation: identity / Solver: lbfgs --- Accuracy: 0.825 / Precision: 0.677 / Recall: 1.000\n"
     ]
    },
    {
     "name": "stderr",
     "output_type": "stream",
     "text": [
      "C:\\Users\\rueip\\AppData\\Local\\Programs\\Python\\Python311\\Lib\\site-packages\\sklearn\\neural_network\\_multilayer_perceptron.py:691: ConvergenceWarning: Stochastic Optimizer: Maximum iterations (200) reached and the optimization hasn't converged yet.\n",
      "  warnings.warn(\n"
     ]
    },
    {
     "name": "stdout",
     "output_type": "stream",
     "text": [
      "Hidden Layer Size: 10 / Activation: identity / Solver: sgd --- Accuracy: 0.895 / Precision: 0.800 / Recall: 0.952\n"
     ]
    },
    {
     "name": "stderr",
     "output_type": "stream",
     "text": [
      "C:\\Users\\rueip\\AppData\\Local\\Programs\\Python\\Python311\\Lib\\site-packages\\sklearn\\neural_network\\_multilayer_perceptron.py:691: ConvergenceWarning: Stochastic Optimizer: Maximum iterations (200) reached and the optimization hasn't converged yet.\n",
      "  warnings.warn(\n",
      "C:\\Users\\rueip\\AppData\\Local\\Programs\\Python\\Python311\\Lib\\site-packages\\sklearn\\metrics\\_classification.py:1469: UndefinedMetricWarning: Precision is ill-defined and being set to 0.0 due to no predicted samples. Use `zero_division` parameter to control this behavior.\n",
      "  _warn_prf(average, modifier, msg_start, len(result))\n"
     ]
    },
    {
     "name": "stdout",
     "output_type": "stream",
     "text": [
      "Hidden Layer Size: 10 / Activation: identity / Solver: adam --- Accuracy: 0.865 / Precision: 0.733 / Recall: 1.000\n",
      "Hidden Layer Size: 10 / Activation: logistic / Solver: lbfgs --- Accuracy: 0.632 / Precision: 0.000 / Recall: 0.000\n"
     ]
    },
    {
     "name": "stderr",
     "output_type": "stream",
     "text": [
      "C:\\Users\\rueip\\AppData\\Local\\Programs\\Python\\Python311\\Lib\\site-packages\\sklearn\\metrics\\_classification.py:1469: UndefinedMetricWarning: Precision is ill-defined and being set to 0.0 due to no predicted samples. Use `zero_division` parameter to control this behavior.\n",
      "  _warn_prf(average, modifier, msg_start, len(result))\n",
      "C:\\Users\\rueip\\AppData\\Local\\Programs\\Python\\Python311\\Lib\\site-packages\\sklearn\\metrics\\_classification.py:1469: UndefinedMetricWarning: Precision is ill-defined and being set to 0.0 due to no predicted samples. Use `zero_division` parameter to control this behavior.\n",
      "  _warn_prf(average, modifier, msg_start, len(result))\n"
     ]
    },
    {
     "name": "stdout",
     "output_type": "stream",
     "text": [
      "Hidden Layer Size: 10 / Activation: logistic / Solver: sgd --- Accuracy: 0.632 / Precision: 0.000 / Recall: 0.000\n",
      "Hidden Layer Size: 10 / Activation: logistic / Solver: adam --- Accuracy: 0.632 / Precision: 0.000 / Recall: 0.000\n",
      "Hidden Layer Size: 10 / Activation: tanh / Solver: lbfgs --- Accuracy: 0.848 / Precision: 0.708 / Recall: 1.000\n"
     ]
    },
    {
     "name": "stderr",
     "output_type": "stream",
     "text": [
      "C:\\Users\\rueip\\AppData\\Local\\Programs\\Python\\Python311\\Lib\\site-packages\\sklearn\\neural_network\\_multilayer_perceptron.py:691: ConvergenceWarning: Stochastic Optimizer: Maximum iterations (200) reached and the optimization hasn't converged yet.\n",
      "  warnings.warn(\n"
     ]
    },
    {
     "name": "stdout",
     "output_type": "stream",
     "text": [
      "Hidden Layer Size: 10 / Activation: tanh / Solver: sgd --- Accuracy: 0.901 / Precision: 0.838 / Recall: 0.905\n"
     ]
    },
    {
     "name": "stderr",
     "output_type": "stream",
     "text": [
      "C:\\Users\\rueip\\AppData\\Local\\Programs\\Python\\Python311\\Lib\\site-packages\\sklearn\\neural_network\\_multilayer_perceptron.py:691: ConvergenceWarning: Stochastic Optimizer: Maximum iterations (200) reached and the optimization hasn't converged yet.\n",
      "  warnings.warn(\n"
     ]
    },
    {
     "name": "stdout",
     "output_type": "stream",
     "text": [
      "Hidden Layer Size: 10 / Activation: tanh / Solver: adam --- Accuracy: 0.877 / Precision: 0.750 / Recall: 1.000\n"
     ]
    },
    {
     "name": "stderr",
     "output_type": "stream",
     "text": [
      "C:\\Users\\rueip\\AppData\\Local\\Programs\\Python\\Python311\\Lib\\site-packages\\sklearn\\neural_network\\_multilayer_perceptron.py:546: ConvergenceWarning: lbfgs failed to converge (status=1):\n",
      "STOP: TOTAL NO. of ITERATIONS REACHED LIMIT.\n",
      "\n",
      "Increase the number of iterations (max_iter) or scale the data as shown in:\n",
      "    https://scikit-learn.org/stable/modules/preprocessing.html\n",
      "  self.n_iter_ = _check_optimize_result(\"lbfgs\", opt_res, self.max_iter)\n"
     ]
    },
    {
     "name": "stdout",
     "output_type": "stream",
     "text": [
      "Hidden Layer Size: 10 / Activation: relu / Solver: lbfgs --- Accuracy: 0.801 / Precision: 0.649 / Recall: 1.000\n"
     ]
    },
    {
     "name": "stderr",
     "output_type": "stream",
     "text": [
      "C:\\Users\\rueip\\AppData\\Local\\Programs\\Python\\Python311\\Lib\\site-packages\\sklearn\\neural_network\\_multilayer_perceptron.py:691: ConvergenceWarning: Stochastic Optimizer: Maximum iterations (200) reached and the optimization hasn't converged yet.\n",
      "  warnings.warn(\n"
     ]
    },
    {
     "name": "stdout",
     "output_type": "stream",
     "text": [
      "Hidden Layer Size: 10 / Activation: relu / Solver: sgd --- Accuracy: 0.918 / Precision: 0.877 / Recall: 0.905\n"
     ]
    },
    {
     "name": "stderr",
     "output_type": "stream",
     "text": [
      "C:\\Users\\rueip\\AppData\\Local\\Programs\\Python\\Python311\\Lib\\site-packages\\sklearn\\neural_network\\_multilayer_perceptron.py:691: ConvergenceWarning: Stochastic Optimizer: Maximum iterations (200) reached and the optimization hasn't converged yet.\n",
      "  warnings.warn(\n"
     ]
    },
    {
     "name": "stdout",
     "output_type": "stream",
     "text": [
      "Hidden Layer Size: 10 / Activation: relu / Solver: adam --- Accuracy: 0.895 / Precision: 0.778 / Recall: 1.000\n"
     ]
    },
    {
     "name": "stderr",
     "output_type": "stream",
     "text": [
      "C:\\Users\\rueip\\AppData\\Local\\Programs\\Python\\Python311\\Lib\\site-packages\\sklearn\\neural_network\\_multilayer_perceptron.py:546: ConvergenceWarning: lbfgs failed to converge (status=1):\n",
      "STOP: TOTAL NO. of ITERATIONS REACHED LIMIT.\n",
      "\n",
      "Increase the number of iterations (max_iter) or scale the data as shown in:\n",
      "    https://scikit-learn.org/stable/modules/preprocessing.html\n",
      "  self.n_iter_ = _check_optimize_result(\"lbfgs\", opt_res, self.max_iter)\n"
     ]
    },
    {
     "name": "stdout",
     "output_type": "stream",
     "text": [
      "Hidden Layer Size: 20 / Activation: identity / Solver: lbfgs --- Accuracy: 0.807 / Precision: 0.656 / Recall: 1.000\n"
     ]
    },
    {
     "name": "stderr",
     "output_type": "stream",
     "text": [
      "C:\\Users\\rueip\\AppData\\Local\\Programs\\Python\\Python311\\Lib\\site-packages\\sklearn\\neural_network\\_multilayer_perceptron.py:691: ConvergenceWarning: Stochastic Optimizer: Maximum iterations (200) reached and the optimization hasn't converged yet.\n",
      "  warnings.warn(\n"
     ]
    },
    {
     "name": "stdout",
     "output_type": "stream",
     "text": [
      "Hidden Layer Size: 20 / Activation: identity / Solver: sgd --- Accuracy: 0.912 / Precision: 0.864 / Recall: 0.905\n"
     ]
    },
    {
     "name": "stderr",
     "output_type": "stream",
     "text": [
      "C:\\Users\\rueip\\AppData\\Local\\Programs\\Python\\Python311\\Lib\\site-packages\\sklearn\\neural_network\\_multilayer_perceptron.py:691: ConvergenceWarning: Stochastic Optimizer: Maximum iterations (200) reached and the optimization hasn't converged yet.\n",
      "  warnings.warn(\n",
      "C:\\Users\\rueip\\AppData\\Local\\Programs\\Python\\Python311\\Lib\\site-packages\\sklearn\\metrics\\_classification.py:1469: UndefinedMetricWarning: Precision is ill-defined and being set to 0.0 due to no predicted samples. Use `zero_division` parameter to control this behavior.\n",
      "  _warn_prf(average, modifier, msg_start, len(result))\n"
     ]
    },
    {
     "name": "stdout",
     "output_type": "stream",
     "text": [
      "Hidden Layer Size: 20 / Activation: identity / Solver: adam --- Accuracy: 0.865 / Precision: 0.733 / Recall: 1.000\n",
      "Hidden Layer Size: 20 / Activation: logistic / Solver: lbfgs --- Accuracy: 0.632 / Precision: 0.000 / Recall: 0.000\n"
     ]
    },
    {
     "name": "stderr",
     "output_type": "stream",
     "text": [
      "C:\\Users\\rueip\\AppData\\Local\\Programs\\Python\\Python311\\Lib\\site-packages\\sklearn\\metrics\\_classification.py:1469: UndefinedMetricWarning: Precision is ill-defined and being set to 0.0 due to no predicted samples. Use `zero_division` parameter to control this behavior.\n",
      "  _warn_prf(average, modifier, msg_start, len(result))\n",
      "C:\\Users\\rueip\\AppData\\Local\\Programs\\Python\\Python311\\Lib\\site-packages\\sklearn\\metrics\\_classification.py:1469: UndefinedMetricWarning: Precision is ill-defined and being set to 0.0 due to no predicted samples. Use `zero_division` parameter to control this behavior.\n",
      "  _warn_prf(average, modifier, msg_start, len(result))\n"
     ]
    },
    {
     "name": "stdout",
     "output_type": "stream",
     "text": [
      "Hidden Layer Size: 20 / Activation: logistic / Solver: sgd --- Accuracy: 0.632 / Precision: 0.000 / Recall: 0.000\n",
      "Hidden Layer Size: 20 / Activation: logistic / Solver: adam --- Accuracy: 0.632 / Precision: 0.000 / Recall: 0.000\n",
      "Hidden Layer Size: 20 / Activation: tanh / Solver: lbfgs --- Accuracy: 0.918 / Precision: 0.836 / Recall: 0.968\n"
     ]
    },
    {
     "name": "stderr",
     "output_type": "stream",
     "text": [
      "C:\\Users\\rueip\\AppData\\Local\\Programs\\Python\\Python311\\Lib\\site-packages\\sklearn\\neural_network\\_multilayer_perceptron.py:691: ConvergenceWarning: Stochastic Optimizer: Maximum iterations (200) reached and the optimization hasn't converged yet.\n",
      "  warnings.warn(\n"
     ]
    },
    {
     "name": "stdout",
     "output_type": "stream",
     "text": [
      "Hidden Layer Size: 20 / Activation: tanh / Solver: sgd --- Accuracy: 0.836 / Precision: 0.927 / Recall: 0.603\n"
     ]
    },
    {
     "name": "stderr",
     "output_type": "stream",
     "text": [
      "C:\\Users\\rueip\\AppData\\Local\\Programs\\Python\\Python311\\Lib\\site-packages\\sklearn\\neural_network\\_multilayer_perceptron.py:691: ConvergenceWarning: Stochastic Optimizer: Maximum iterations (200) reached and the optimization hasn't converged yet.\n",
      "  warnings.warn(\n"
     ]
    },
    {
     "name": "stdout",
     "output_type": "stream",
     "text": [
      "Hidden Layer Size: 20 / Activation: tanh / Solver: adam --- Accuracy: 0.936 / Precision: 0.861 / Recall: 0.984\n",
      "Hidden Layer Size: 20 / Activation: relu / Solver: lbfgs --- Accuracy: 0.865 / Precision: 0.733 / Recall: 1.000\n"
     ]
    },
    {
     "name": "stderr",
     "output_type": "stream",
     "text": [
      "C:\\Users\\rueip\\AppData\\Local\\Programs\\Python\\Python311\\Lib\\site-packages\\sklearn\\neural_network\\_multilayer_perceptron.py:691: ConvergenceWarning: Stochastic Optimizer: Maximum iterations (200) reached and the optimization hasn't converged yet.\n",
      "  warnings.warn(\n"
     ]
    },
    {
     "name": "stdout",
     "output_type": "stream",
     "text": [
      "Hidden Layer Size: 20 / Activation: relu / Solver: sgd --- Accuracy: 0.813 / Precision: 1.000 / Recall: 0.492\n"
     ]
    },
    {
     "name": "stderr",
     "output_type": "stream",
     "text": [
      "C:\\Users\\rueip\\AppData\\Local\\Programs\\Python\\Python311\\Lib\\site-packages\\sklearn\\neural_network\\_multilayer_perceptron.py:691: ConvergenceWarning: Stochastic Optimizer: Maximum iterations (200) reached and the optimization hasn't converged yet.\n",
      "  warnings.warn(\n"
     ]
    },
    {
     "name": "stdout",
     "output_type": "stream",
     "text": [
      "Hidden Layer Size: 20 / Activation: relu / Solver: adam --- Accuracy: 0.895 / Precision: 0.785 / Recall: 0.984\n"
     ]
    },
    {
     "name": "stderr",
     "output_type": "stream",
     "text": [
      "C:\\Users\\rueip\\AppData\\Local\\Programs\\Python\\Python311\\Lib\\site-packages\\sklearn\\neural_network\\_multilayer_perceptron.py:546: ConvergenceWarning: lbfgs failed to converge (status=1):\n",
      "STOP: TOTAL NO. of ITERATIONS REACHED LIMIT.\n",
      "\n",
      "Increase the number of iterations (max_iter) or scale the data as shown in:\n",
      "    https://scikit-learn.org/stable/modules/preprocessing.html\n",
      "  self.n_iter_ = _check_optimize_result(\"lbfgs\", opt_res, self.max_iter)\n"
     ]
    },
    {
     "name": "stdout",
     "output_type": "stream",
     "text": [
      "Hidden Layer Size: 50 / Activation: identity / Solver: lbfgs --- Accuracy: 0.825 / Precision: 0.677 / Recall: 1.000\n"
     ]
    },
    {
     "name": "stderr",
     "output_type": "stream",
     "text": [
      "C:\\Users\\rueip\\AppData\\Local\\Programs\\Python\\Python311\\Lib\\site-packages\\sklearn\\neural_network\\_multilayer_perceptron.py:691: ConvergenceWarning: Stochastic Optimizer: Maximum iterations (200) reached and the optimization hasn't converged yet.\n",
      "  warnings.warn(\n"
     ]
    },
    {
     "name": "stdout",
     "output_type": "stream",
     "text": [
      "Hidden Layer Size: 50 / Activation: identity / Solver: sgd --- Accuracy: 0.901 / Precision: 0.871 / Recall: 0.857\n"
     ]
    },
    {
     "name": "stderr",
     "output_type": "stream",
     "text": [
      "C:\\Users\\rueip\\AppData\\Local\\Programs\\Python\\Python311\\Lib\\site-packages\\sklearn\\neural_network\\_multilayer_perceptron.py:691: ConvergenceWarning: Stochastic Optimizer: Maximum iterations (200) reached and the optimization hasn't converged yet.\n",
      "  warnings.warn(\n",
      "C:\\Users\\rueip\\AppData\\Local\\Programs\\Python\\Python311\\Lib\\site-packages\\sklearn\\metrics\\_classification.py:1469: UndefinedMetricWarning: Precision is ill-defined and being set to 0.0 due to no predicted samples. Use `zero_division` parameter to control this behavior.\n",
      "  _warn_prf(average, modifier, msg_start, len(result))\n"
     ]
    },
    {
     "name": "stdout",
     "output_type": "stream",
     "text": [
      "Hidden Layer Size: 50 / Activation: identity / Solver: adam --- Accuracy: 0.901 / Precision: 0.787 / Recall: 1.000\n",
      "Hidden Layer Size: 50 / Activation: logistic / Solver: lbfgs --- Accuracy: 0.632 / Precision: 0.000 / Recall: 0.000\n"
     ]
    },
    {
     "name": "stderr",
     "output_type": "stream",
     "text": [
      "C:\\Users\\rueip\\AppData\\Local\\Programs\\Python\\Python311\\Lib\\site-packages\\sklearn\\metrics\\_classification.py:1469: UndefinedMetricWarning: Precision is ill-defined and being set to 0.0 due to no predicted samples. Use `zero_division` parameter to control this behavior.\n",
      "  _warn_prf(average, modifier, msg_start, len(result))\n",
      "C:\\Users\\rueip\\AppData\\Local\\Programs\\Python\\Python311\\Lib\\site-packages\\sklearn\\metrics\\_classification.py:1469: UndefinedMetricWarning: Precision is ill-defined and being set to 0.0 due to no predicted samples. Use `zero_division` parameter to control this behavior.\n",
      "  _warn_prf(average, modifier, msg_start, len(result))\n"
     ]
    },
    {
     "name": "stdout",
     "output_type": "stream",
     "text": [
      "Hidden Layer Size: 50 / Activation: logistic / Solver: sgd --- Accuracy: 0.632 / Precision: 0.000 / Recall: 0.000\n",
      "Hidden Layer Size: 50 / Activation: logistic / Solver: adam --- Accuracy: 0.632 / Precision: 0.000 / Recall: 0.000\n",
      "Hidden Layer Size: 50 / Activation: tanh / Solver: lbfgs --- Accuracy: 0.906 / Precision: 0.805 / Recall: 0.984\n"
     ]
    },
    {
     "name": "stderr",
     "output_type": "stream",
     "text": [
      "C:\\Users\\rueip\\AppData\\Local\\Programs\\Python\\Python311\\Lib\\site-packages\\sklearn\\neural_network\\_multilayer_perceptron.py:691: ConvergenceWarning: Stochastic Optimizer: Maximum iterations (200) reached and the optimization hasn't converged yet.\n",
      "  warnings.warn(\n"
     ]
    },
    {
     "name": "stdout",
     "output_type": "stream",
     "text": [
      "Hidden Layer Size: 50 / Activation: tanh / Solver: sgd --- Accuracy: 0.912 / Precision: 0.887 / Recall: 0.873\n"
     ]
    },
    {
     "name": "stderr",
     "output_type": "stream",
     "text": [
      "C:\\Users\\rueip\\AppData\\Local\\Programs\\Python\\Python311\\Lib\\site-packages\\sklearn\\neural_network\\_multilayer_perceptron.py:691: ConvergenceWarning: Stochastic Optimizer: Maximum iterations (200) reached and the optimization hasn't converged yet.\n",
      "  warnings.warn(\n"
     ]
    },
    {
     "name": "stdout",
     "output_type": "stream",
     "text": [
      "Hidden Layer Size: 50 / Activation: tanh / Solver: adam --- Accuracy: 0.924 / Precision: 0.838 / Recall: 0.984\n"
     ]
    },
    {
     "name": "stderr",
     "output_type": "stream",
     "text": [
      "C:\\Users\\rueip\\AppData\\Local\\Programs\\Python\\Python311\\Lib\\site-packages\\sklearn\\neural_network\\_multilayer_perceptron.py:546: ConvergenceWarning: lbfgs failed to converge (status=1):\n",
      "STOP: TOTAL NO. of ITERATIONS REACHED LIMIT.\n",
      "\n",
      "Increase the number of iterations (max_iter) or scale the data as shown in:\n",
      "    https://scikit-learn.org/stable/modules/preprocessing.html\n",
      "  self.n_iter_ = _check_optimize_result(\"lbfgs\", opt_res, self.max_iter)\n"
     ]
    },
    {
     "name": "stdout",
     "output_type": "stream",
     "text": [
      "Hidden Layer Size: 50 / Activation: relu / Solver: lbfgs --- Accuracy: 0.947 / Precision: 0.909 / Recall: 0.952\n"
     ]
    },
    {
     "name": "stderr",
     "output_type": "stream",
     "text": [
      "C:\\Users\\rueip\\AppData\\Local\\Programs\\Python\\Python311\\Lib\\site-packages\\sklearn\\neural_network\\_multilayer_perceptron.py:691: ConvergenceWarning: Stochastic Optimizer: Maximum iterations (200) reached and the optimization hasn't converged yet.\n",
      "  warnings.warn(\n"
     ]
    },
    {
     "name": "stdout",
     "output_type": "stream",
     "text": [
      "Hidden Layer Size: 50 / Activation: relu / Solver: sgd --- Accuracy: 0.854 / Precision: 1.000 / Recall: 0.603\n"
     ]
    },
    {
     "name": "stderr",
     "output_type": "stream",
     "text": [
      "C:\\Users\\rueip\\AppData\\Local\\Programs\\Python\\Python311\\Lib\\site-packages\\sklearn\\neural_network\\_multilayer_perceptron.py:691: ConvergenceWarning: Stochastic Optimizer: Maximum iterations (200) reached and the optimization hasn't converged yet.\n",
      "  warnings.warn(\n"
     ]
    },
    {
     "name": "stdout",
     "output_type": "stream",
     "text": [
      "Hidden Layer Size: 50 / Activation: relu / Solver: adam --- Accuracy: 0.936 / Precision: 0.871 / Recall: 0.968\n"
     ]
    },
    {
     "name": "stderr",
     "output_type": "stream",
     "text": [
      "C:\\Users\\rueip\\AppData\\Local\\Programs\\Python\\Python311\\Lib\\site-packages\\sklearn\\neural_network\\_multilayer_perceptron.py:546: ConvergenceWarning: lbfgs failed to converge (status=1):\n",
      "STOP: TOTAL NO. of ITERATIONS REACHED LIMIT.\n",
      "\n",
      "Increase the number of iterations (max_iter) or scale the data as shown in:\n",
      "    https://scikit-learn.org/stable/modules/preprocessing.html\n",
      "  self.n_iter_ = _check_optimize_result(\"lbfgs\", opt_res, self.max_iter)\n"
     ]
    },
    {
     "name": "stdout",
     "output_type": "stream",
     "text": [
      "Hidden Layer Size: 100 / Activation: identity / Solver: lbfgs --- Accuracy: 0.819 / Precision: 0.670 / Recall: 1.000\n"
     ]
    },
    {
     "name": "stderr",
     "output_type": "stream",
     "text": [
      "C:\\Users\\rueip\\AppData\\Local\\Programs\\Python\\Python311\\Lib\\site-packages\\sklearn\\neural_network\\_multilayer_perceptron.py:691: ConvergenceWarning: Stochastic Optimizer: Maximum iterations (200) reached and the optimization hasn't converged yet.\n",
      "  warnings.warn(\n"
     ]
    },
    {
     "name": "stdout",
     "output_type": "stream",
     "text": [
      "Hidden Layer Size: 100 / Activation: identity / Solver: sgd --- Accuracy: 0.918 / Precision: 0.877 / Recall: 0.905\n"
     ]
    },
    {
     "name": "stderr",
     "output_type": "stream",
     "text": [
      "C:\\Users\\rueip\\AppData\\Local\\Programs\\Python\\Python311\\Lib\\site-packages\\sklearn\\neural_network\\_multilayer_perceptron.py:691: ConvergenceWarning: Stochastic Optimizer: Maximum iterations (200) reached and the optimization hasn't converged yet.\n",
      "  warnings.warn(\n",
      "C:\\Users\\rueip\\AppData\\Local\\Programs\\Python\\Python311\\Lib\\site-packages\\sklearn\\metrics\\_classification.py:1469: UndefinedMetricWarning: Precision is ill-defined and being set to 0.0 due to no predicted samples. Use `zero_division` parameter to control this behavior.\n",
      "  _warn_prf(average, modifier, msg_start, len(result))\n"
     ]
    },
    {
     "name": "stdout",
     "output_type": "stream",
     "text": [
      "Hidden Layer Size: 100 / Activation: identity / Solver: adam --- Accuracy: 0.942 / Precision: 0.873 / Recall: 0.984\n",
      "Hidden Layer Size: 100 / Activation: logistic / Solver: lbfgs --- Accuracy: 0.632 / Precision: 0.000 / Recall: 0.000\n"
     ]
    },
    {
     "name": "stderr",
     "output_type": "stream",
     "text": [
      "C:\\Users\\rueip\\AppData\\Local\\Programs\\Python\\Python311\\Lib\\site-packages\\sklearn\\metrics\\_classification.py:1469: UndefinedMetricWarning: Precision is ill-defined and being set to 0.0 due to no predicted samples. Use `zero_division` parameter to control this behavior.\n",
      "  _warn_prf(average, modifier, msg_start, len(result))\n",
      "C:\\Users\\rueip\\AppData\\Local\\Programs\\Python\\Python311\\Lib\\site-packages\\sklearn\\metrics\\_classification.py:1469: UndefinedMetricWarning: Precision is ill-defined and being set to 0.0 due to no predicted samples. Use `zero_division` parameter to control this behavior.\n",
      "  _warn_prf(average, modifier, msg_start, len(result))\n"
     ]
    },
    {
     "name": "stdout",
     "output_type": "stream",
     "text": [
      "Hidden Layer Size: 100 / Activation: logistic / Solver: sgd --- Accuracy: 0.632 / Precision: 0.000 / Recall: 0.000\n",
      "Hidden Layer Size: 100 / Activation: logistic / Solver: adam --- Accuracy: 0.632 / Precision: 0.000 / Recall: 0.000\n",
      "Hidden Layer Size: 100 / Activation: tanh / Solver: lbfgs --- Accuracy: 0.854 / Precision: 0.716 / Recall: 1.000\n"
     ]
    },
    {
     "name": "stderr",
     "output_type": "stream",
     "text": [
      "C:\\Users\\rueip\\AppData\\Local\\Programs\\Python\\Python311\\Lib\\site-packages\\sklearn\\neural_network\\_multilayer_perceptron.py:691: ConvergenceWarning: Stochastic Optimizer: Maximum iterations (200) reached and the optimization hasn't converged yet.\n",
      "  warnings.warn(\n"
     ]
    },
    {
     "name": "stdout",
     "output_type": "stream",
     "text": [
      "Hidden Layer Size: 100 / Activation: tanh / Solver: sgd --- Accuracy: 0.883 / Precision: 0.906 / Recall: 0.762\n"
     ]
    },
    {
     "name": "stderr",
     "output_type": "stream",
     "text": [
      "C:\\Users\\rueip\\AppData\\Local\\Programs\\Python\\Python311\\Lib\\site-packages\\sklearn\\neural_network\\_multilayer_perceptron.py:691: ConvergenceWarning: Stochastic Optimizer: Maximum iterations (200) reached and the optimization hasn't converged yet.\n",
      "  warnings.warn(\n"
     ]
    },
    {
     "name": "stdout",
     "output_type": "stream",
     "text": [
      "Hidden Layer Size: 100 / Activation: tanh / Solver: adam --- Accuracy: 0.854 / Precision: 0.716 / Recall: 1.000\n",
      "Hidden Layer Size: 100 / Activation: relu / Solver: lbfgs --- Accuracy: 0.906 / Precision: 0.813 / Recall: 0.968\n"
     ]
    },
    {
     "name": "stderr",
     "output_type": "stream",
     "text": [
      "C:\\Users\\rueip\\AppData\\Local\\Programs\\Python\\Python311\\Lib\\site-packages\\sklearn\\neural_network\\_multilayer_perceptron.py:691: ConvergenceWarning: Stochastic Optimizer: Maximum iterations (200) reached and the optimization hasn't converged yet.\n",
      "  warnings.warn(\n"
     ]
    },
    {
     "name": "stdout",
     "output_type": "stream",
     "text": [
      "Hidden Layer Size: 100 / Activation: relu / Solver: sgd --- Accuracy: 0.743 / Precision: 1.000 / Recall: 0.302\n",
      "Hidden Layer Size: 100 / Activation: relu / Solver: adam --- Accuracy: 0.901 / Precision: 0.787 / Recall: 1.000\n"
     ]
    },
    {
     "name": "stderr",
     "output_type": "stream",
     "text": [
      "C:\\Users\\rueip\\AppData\\Local\\Programs\\Python\\Python311\\Lib\\site-packages\\sklearn\\neural_network\\_multilayer_perceptron.py:691: ConvergenceWarning: Stochastic Optimizer: Maximum iterations (200) reached and the optimization hasn't converged yet.\n",
      "  warnings.warn(\n"
     ]
    }
   ],
   "source": [
    "num_layers = [10, 20, 50, 100]\n",
    "activation_functions = ['identity', 'logistic', 'tanh', 'relu']\n",
    "solvers = ['lbfgs', 'sgd', 'adam']\n",
    "for layers in num_layers:\n",
    "    for activation in activation_functions:\n",
    "        for solver in solvers:\n",
    "            mlp = MLPClassifier(hidden_layer_sizes=num_layers, activation=activation, solver=solver)\n",
    "            mlp.fit(x_train_scaled, y_train)\n",
    "            y_pred = mlp.predict(x_test_scaled)\n",
    "\n",
    "            accuracy = \"%.3f\" % metrics.accuracy_score(y_test, y_pred)\n",
    "            precision = \"%.3f\" % metrics.precision_score(y_test, y_pred, pos_label='M')\n",
    "            recall = \"%.3f\" % metrics.recall_score(y_test, y_pred, pos_label='M')\n",
    "\n",
    "            print(f'Hidden Layer Size: {layers} / Activation: {activation} / Solver: {solver} --- Accuracy: {accuracy} / Precision: {precision} / Recall: {recall}')"
   ],
   "metadata": {
    "collapsed": false,
    "ExecuteTime": {
     "end_time": "2023-07-30T14:58:18.019554400Z",
     "start_time": "2023-07-30T14:58:01.375444600Z"
    }
   }
  },
  {
   "cell_type": "code",
   "execution_count": 38,
   "outputs": [
    {
     "name": "stdout",
     "output_type": "stream",
     "text": [
      "Accuracy: 0.848 / Precision: 0.723 / Recall: 0.952\n"
     ]
    }
   ],
   "source": [
    "from sklearn.naive_bayes import GaussianNB\n",
    "nb = GaussianNB()\n",
    "nb.fit(x_train_scaled, y_train)\n",
    "y_pred = nb.predict(x_test_scaled)\n",
    "\n",
    "accuracy = \"%.3f\" % metrics.accuracy_score(y_test, y_pred)\n",
    "precision = \"%.3f\" % metrics.precision_score(y_test, y_pred, pos_label='M')\n",
    "recall = \"%.3f\" % metrics.recall_score(y_test, y_pred, pos_label='M')\n",
    "\n",
    "print(f'Accuracy: {accuracy} / Precision: {precision} / Recall: {recall}')"
   ],
   "metadata": {
    "collapsed": false,
    "ExecuteTime": {
     "end_time": "2023-07-30T15:00:51.667653900Z",
     "start_time": "2023-07-30T15:00:51.622459600Z"
    }
   }
  },
  {
   "cell_type": "code",
   "execution_count": 40,
   "outputs": [
    {
     "name": "stdout",
     "output_type": "stream",
     "text": [
      "Accuracy: 0.579 / Precision: 0.467 / Recall: 1.000\n"
     ]
    }
   ],
   "source": [
    "from sklearn.discriminant_analysis import QuadraticDiscriminantAnalysis\n",
    "qda = QuadraticDiscriminantAnalysis()\n",
    "qda.fit(x_train_scaled, y_train)\n",
    "y_pred = qda.predict(x_test_scaled)\n",
    "\n",
    "accuracy = \"%.3f\" % metrics.accuracy_score(y_test, y_pred)\n",
    "precision = \"%.3f\" % metrics.precision_score(y_test, y_pred, pos_label='M')\n",
    "recall = \"%.3f\" % metrics.recall_score(y_test, y_pred, pos_label='M')\n",
    "\n",
    "print(f'Accuracy: {accuracy} / Precision: {precision} / Recall: {recall}')"
   ],
   "metadata": {
    "collapsed": false,
    "ExecuteTime": {
     "end_time": "2023-07-30T15:02:50.971565300Z",
     "start_time": "2023-07-30T15:02:50.949330Z"
    }
   }
  },
  {
   "cell_type": "code",
   "execution_count": 41,
   "outputs": [
    {
     "name": "stdout",
     "output_type": "stream",
     "text": [
      "Accuracy: 0.959 / Precision: 0.967 / Recall: 0.921\n"
     ]
    }
   ],
   "source": [
    "from sklearn.gaussian_process import GaussianProcessClassifier\n",
    "gp = GaussianProcessClassifier()\n",
    "gp.fit(x_train_scaled, y_train)\n",
    "y_pred = gp.predict(x_test_scaled)\n",
    "\n",
    "accuracy = \"%.3f\" % metrics.accuracy_score(y_test, y_pred)\n",
    "precision = \"%.3f\" % metrics.precision_score(y_test, y_pred, pos_label='M')\n",
    "recall = \"%.3f\" % metrics.recall_score(y_test, y_pred, pos_label='M')\n",
    "\n",
    "print(f'Accuracy: {accuracy} / Precision: {precision} / Recall: {recall}')"
   ],
   "metadata": {
    "collapsed": false,
    "ExecuteTime": {
     "end_time": "2023-07-30T15:04:43.833536Z",
     "start_time": "2023-07-30T15:04:43.713147300Z"
    }
   }
  },
  {
   "cell_type": "code",
   "execution_count": null,
   "outputs": [],
   "source": [],
   "metadata": {
    "collapsed": false
   }
  }
 ],
 "metadata": {
  "kernelspec": {
   "display_name": "Python 3",
   "language": "python",
   "name": "python3"
  },
  "language_info": {
   "codemirror_mode": {
    "name": "ipython",
    "version": 2
   },
   "file_extension": ".py",
   "mimetype": "text/x-python",
   "name": "python",
   "nbconvert_exporter": "python",
   "pygments_lexer": "ipython2",
   "version": "2.7.6"
  }
 },
 "nbformat": 4,
 "nbformat_minor": 0
}
